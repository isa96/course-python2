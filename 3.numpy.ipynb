{
 "cells": [
  {
   "cell_type": "markdown",
   "id": "f4f68c91-4c55-49fa-9966-1aab69c8dfd0",
   "metadata": {},
   "source": [
    "# 3.1. INTRODUCTION"
   ]
  },
  {
   "cell_type": "markdown",
   "id": "e479e7b0-6bfc-44d0-a6a7-eabbcf96f868",
   "metadata": {},
   "source": [
    "## Import Numpy"
   ]
  },
  {
   "cell_type": "code",
   "execution_count": 1,
   "id": "21c1a563-4d02-46ea-8bb7-24e55aa6efbe",
   "metadata": {},
   "outputs": [],
   "source": [
    "# import numpy library\n",
    "import numpy as np"
   ]
  },
  {
   "cell_type": "markdown",
   "id": "ed812458-9b24-4767-b0af-bb75155ecea7",
   "metadata": {},
   "source": [
    "## Checking Numpy Version"
   ]
  },
  {
   "cell_type": "code",
   "execution_count": 2,
   "id": "d36aa05f-dc70-43e9-80ee-4877589b43d1",
   "metadata": {},
   "outputs": [
    {
     "name": "stdout",
     "output_type": "stream",
     "text": [
      "1.25.2\n"
     ]
    }
   ],
   "source": [
    "# checking numpy version\n",
    "print(np.__version__)"
   ]
  },
  {
   "cell_type": "code",
   "execution_count": 3,
   "id": "57a095ce-12ff-4af8-8821-8d11b1bb19ed",
   "metadata": {},
   "outputs": [
    {
     "name": "stdout",
     "output_type": "stream",
     "text": [
      " info(object=None, maxwidth=76, output=None, toplevel='numpy')\n",
      "\n",
      "Get help information for an array, function, class, or module.\n",
      "\n",
      "Parameters\n",
      "----------\n",
      "object : object or str, optional\n",
      "    Input object or name to get information about. If `object` is\n",
      "    an `ndarray` instance, information about the array is printed.\n",
      "    If `object` is a numpy object, its docstring is given. If it is\n",
      "    a string, available modules are searched for matching objects.\n",
      "    If None, information about `info` itself is returned.\n",
      "maxwidth : int, optional\n",
      "    Printing width.\n",
      "output : file like object, optional\n",
      "    File like object that the output is written to, default is\n",
      "    ``None``, in which case ``sys.stdout`` will be used.\n",
      "    The object has to be opened in 'w' or 'a' mode.\n",
      "toplevel : str, optional\n",
      "    Start search at this level.\n",
      "\n",
      "See Also\n",
      "--------\n",
      "source, lookfor\n",
      "\n",
      "Notes\n",
      "-----\n",
      "When used interactively with an object, ``np.info(obj)`` is equivalent\n",
      "to ``help(obj)`` on the Python prompt or ``obj?`` on the IPython\n",
      "prompt.\n",
      "\n",
      "Examples\n",
      "--------\n",
      ">>> np.info(np.polyval) # doctest: +SKIP\n",
      "   polyval(p, x)\n",
      "     Evaluate the polynomial p at x.\n",
      "     ...\n",
      "\n",
      "When using a string for `object` it is possible to get multiple results.\n",
      "\n",
      ">>> np.info('fft') # doctest: +SKIP\n",
      "     *** Found in numpy ***\n",
      "Core FFT routines\n",
      "...\n",
      "     *** Found in numpy.fft ***\n",
      " fft(a, n=None, axis=-1)\n",
      "...\n",
      "     *** Repeat reference found in numpy.fft.fftpack ***\n",
      "     *** Total of 3 references found. ***\n",
      "\n",
      "When the argument is an array, information about the array is printed.\n",
      "\n",
      ">>> a = np.array([[1 + 2j, 3, -4], [-5j, 6, 0]], dtype=np.complex64)\n",
      ">>> np.info(a)\n",
      "class:  ndarray\n",
      "shape:  (2, 3)\n",
      "strides:  (24, 8)\n",
      "itemsize:  8\n",
      "aligned:  True\n",
      "contiguous:  True\n",
      "fortran:  False\n",
      "data pointer: 0x562b6e0d2860  # may vary\n",
      "byteorder:  little\n",
      "byteswap:  False\n",
      "type: complex64\n"
     ]
    }
   ],
   "source": [
    "# checking information of numpy\n",
    "np.info()"
   ]
  },
  {
   "cell_type": "markdown",
   "id": "db1de15f-6ec4-4913-bdf2-00172f2c7f13",
   "metadata": {},
   "source": [
    "# 3.2. ARRAY"
   ]
  },
  {
   "cell_type": "markdown",
   "id": "782aed1e-384c-46b6-a875-74397e3a171a",
   "metadata": {},
   "source": [
    "## Making Array"
   ]
  },
  {
   "cell_type": "code",
   "execution_count": 4,
   "id": "716f275d-904f-407e-a09e-abccfdc60341",
   "metadata": {},
   "outputs": [],
   "source": [
    "array = np.array([1, 2, 3, 4, 5])"
   ]
  },
  {
   "cell_type": "code",
   "execution_count": 5,
   "id": "389aa8df-f8e5-414e-9765-ac61fd5ad262",
   "metadata": {},
   "outputs": [
    {
     "name": "stdout",
     "output_type": "stream",
     "text": [
      "[1 2 3 4 5]\n"
     ]
    }
   ],
   "source": [
    "print(array)"
   ]
  },
  {
   "cell_type": "code",
   "execution_count": 6,
   "id": "04c4dd76-5b0a-447e-80cc-5f77765ebc61",
   "metadata": {},
   "outputs": [
    {
     "name": "stdout",
     "output_type": "stream",
     "text": [
      "<class 'numpy.ndarray'>\n"
     ]
    }
   ],
   "source": [
    "print(type(array))"
   ]
  },
  {
   "cell_type": "code",
   "execution_count": 7,
   "id": "b2648295-1a99-4529-9f7e-ec99b70abb08",
   "metadata": {},
   "outputs": [],
   "source": [
    "# matemathics operation\n",
    "A = [1, 2, 3, 4]\n",
    "B = [5, 6, 7, 8]\n",
    "\n",
    "arrayA = np.array(A)\n",
    "arrayB = np.array(B)"
   ]
  },
  {
   "cell_type": "code",
   "execution_count": 8,
   "id": "b31c5612-4595-41e7-a2e7-0ef79f399320",
   "metadata": {},
   "outputs": [
    {
     "data": {
      "text/plain": [
       "array([ 6,  8, 10, 12])"
      ]
     },
     "execution_count": 8,
     "metadata": {},
     "output_type": "execute_result"
    }
   ],
   "source": [
    "arrayA + arrayB"
   ]
  },
  {
   "cell_type": "code",
   "execution_count": 9,
   "id": "58399844-b546-4421-a391-394cc57263ec",
   "metadata": {},
   "outputs": [
    {
     "data": {
      "text/plain": [
       "array([ 5, 12, 21, 32])"
      ]
     },
     "execution_count": 9,
     "metadata": {},
     "output_type": "execute_result"
    }
   ],
   "source": [
    "arrayA * arrayB"
   ]
  },
  {
   "cell_type": "code",
   "execution_count": 10,
   "id": "5fb9352f-cd4b-4e75-b290-6a3d655979e3",
   "metadata": {},
   "outputs": [
    {
     "data": {
      "text/plain": [
       "array([10, 20, 30, 40])"
      ]
     },
     "execution_count": 10,
     "metadata": {},
     "output_type": "execute_result"
    }
   ],
   "source": [
    "# multiplication with scalar\n",
    "arrayA * 10"
   ]
  },
  {
   "cell_type": "markdown",
   "id": "704d5eba-5ed6-4ddd-abab-0ab06f112e99",
   "metadata": {},
   "source": [
    "## Array 0D"
   ]
  },
  {
   "cell_type": "code",
   "execution_count": 11,
   "id": "4a70b843-8f6c-40c3-bc2e-c8312285fe6b",
   "metadata": {},
   "outputs": [
    {
     "data": {
      "text/plain": [
       "array(99)"
      ]
     },
     "execution_count": 11,
     "metadata": {},
     "output_type": "execute_result"
    }
   ],
   "source": [
    "# just scalar\n",
    "arr = np.array(99)\n",
    "\n",
    "arr"
   ]
  },
  {
   "cell_type": "markdown",
   "id": "2ccd4305-f804-4897-8156-7de35fb79345",
   "metadata": {},
   "source": [
    "## Array 1D"
   ]
  },
  {
   "cell_type": "code",
   "execution_count": 12,
   "id": "8dd446e3-21c8-499e-a6b3-b3b10f33d5be",
   "metadata": {},
   "outputs": [
    {
     "data": {
      "text/plain": [
       "array([1, 2, 3, 4, 5])"
      ]
     },
     "execution_count": 12,
     "metadata": {},
     "output_type": "execute_result"
    }
   ],
   "source": [
    "# 1 dimension array\n",
    "arr = np.array([1, 2, 3, 4, 5])\n",
    "\n",
    "arr"
   ]
  },
  {
   "cell_type": "markdown",
   "id": "17f29593-14b4-47db-a81e-d48d0c5efec2",
   "metadata": {},
   "source": [
    "## Array 2D"
   ]
  },
  {
   "cell_type": "code",
   "execution_count": 13,
   "id": "26ea8cb9-f251-49aa-a27d-9fc71bde6c42",
   "metadata": {},
   "outputs": [
    {
     "data": {
      "text/plain": [
       "array([[1, 2, 3],\n",
       "       [4, 5, 6]])"
      ]
     },
     "execution_count": 13,
     "metadata": {},
     "output_type": "execute_result"
    }
   ],
   "source": [
    "# 2 dimensions array\n",
    "arr = np.array([[1, 2, 3], \n",
    "                [4, 5, 6]])\n",
    "\n",
    "arr"
   ]
  },
  {
   "cell_type": "markdown",
   "id": "66cfca91-9a0d-4d07-aabd-59afadc5cc6c",
   "metadata": {},
   "source": [
    "## Array 3D"
   ]
  },
  {
   "cell_type": "code",
   "execution_count": 14,
   "id": "4e52a57b-c8bc-47a0-8d87-0f710abc25c2",
   "metadata": {},
   "outputs": [
    {
     "data": {
      "text/plain": [
       "array([[[ 1,  2,  3],\n",
       "        [ 4,  5,  6]],\n",
       "\n",
       "       [[ 7,  8,  9],\n",
       "        [10, 11, 12]]])"
      ]
     },
     "execution_count": 14,
     "metadata": {},
     "output_type": "execute_result"
    }
   ],
   "source": [
    "# 3 dimensions array\n",
    "arr = np.array([[[1, 2, 3], [4, 5, 6]], \n",
    "                 [[7, 8, 9], [10, 11, 12]]])\n",
    "\n",
    "arr"
   ]
  },
  {
   "cell_type": "markdown",
   "id": "3f470ca7-7edf-4a61-a3ec-845af39ce98d",
   "metadata": {},
   "source": [
    "## Making 0s and 1s Array"
   ]
  },
  {
   "cell_type": "code",
   "execution_count": 15,
   "id": "c2a1797d-eb8c-4771-85ca-b49ed9b607dc",
   "metadata": {},
   "outputs": [
    {
     "data": {
      "text/plain": [
       "array([0., 0., 0., 0., 0.])"
      ]
     },
     "execution_count": 15,
     "metadata": {},
     "output_type": "execute_result"
    }
   ],
   "source": [
    "# 1D\n",
    "arr = np.zeros(5)\n",
    "\n",
    "arr"
   ]
  },
  {
   "cell_type": "code",
   "execution_count": 16,
   "id": "e149b048-2090-46b1-88fb-9c0a36a95810",
   "metadata": {},
   "outputs": [
    {
     "data": {
      "text/plain": [
       "array([[0., 0.],\n",
       "       [0., 0.],\n",
       "       [0., 0.],\n",
       "       [0., 0.],\n",
       "       [0., 0.]])"
      ]
     },
     "execution_count": 16,
     "metadata": {},
     "output_type": "execute_result"
    }
   ],
   "source": [
    "# 2D\n",
    "arr = np.zeros((5, 2))\n",
    "\n",
    "arr"
   ]
  },
  {
   "cell_type": "code",
   "execution_count": 17,
   "id": "cef27a62-959b-4704-b5db-4cdcc54aca7f",
   "metadata": {},
   "outputs": [
    {
     "data": {
      "text/plain": [
       "array([[[0., 0.],\n",
       "        [0., 0.],\n",
       "        [0., 0.],\n",
       "        [0., 0.]],\n",
       "\n",
       "       [[0., 0.],\n",
       "        [0., 0.],\n",
       "        [0., 0.],\n",
       "        [0., 0.]],\n",
       "\n",
       "       [[0., 0.],\n",
       "        [0., 0.],\n",
       "        [0., 0.],\n",
       "        [0., 0.]]])"
      ]
     },
     "execution_count": 17,
     "metadata": {},
     "output_type": "execute_result"
    }
   ],
   "source": [
    "# 3D\n",
    "arr = np.zeros((3, 4, 2))\n",
    "\n",
    "arr"
   ]
  },
  {
   "cell_type": "code",
   "execution_count": 18,
   "id": "313d983d-0134-41af-b0cf-a6dffda7d56b",
   "metadata": {},
   "outputs": [
    {
     "data": {
      "text/plain": [
       "array([[[1., 1., 1., 1., 1.],\n",
       "        [1., 1., 1., 1., 1.]],\n",
       "\n",
       "       [[1., 1., 1., 1., 1.],\n",
       "        [1., 1., 1., 1., 1.]],\n",
       "\n",
       "       [[1., 1., 1., 1., 1.],\n",
       "        [1., 1., 1., 1., 1.]],\n",
       "\n",
       "       [[1., 1., 1., 1., 1.],\n",
       "        [1., 1., 1., 1., 1.]]])"
      ]
     },
     "execution_count": 18,
     "metadata": {},
     "output_type": "execute_result"
    }
   ],
   "source": [
    "# 1s array\n",
    "arr = np.ones((4, 2, 5))\n",
    "\n",
    "arr"
   ]
  },
  {
   "cell_type": "markdown",
   "id": "c33cd7aa-b6a0-4306-b17f-0574259dea51",
   "metadata": {},
   "source": [
    "## Accessing Element in an Array"
   ]
  },
  {
   "cell_type": "code",
   "execution_count": 19,
   "id": "5537dfcc-6a8a-487d-9412-91293f070370",
   "metadata": {},
   "outputs": [
    {
     "data": {
      "text/plain": [
       "array([[ 1,  2,  3,  4,  5],\n",
       "       [ 6,  7,  8,  9, 10]])"
      ]
     },
     "execution_count": 19,
     "metadata": {},
     "output_type": "execute_result"
    }
   ],
   "source": [
    "arr = np.array([[1, 2, 3, 4, 5], [6, 7, 8, 9, 10]])\n",
    "\n",
    "arr"
   ]
  },
  {
   "cell_type": "code",
   "execution_count": 20,
   "id": "a1dd0ca7-05f1-4bb3-a6e4-98b93b64f7f6",
   "metadata": {},
   "outputs": [
    {
     "data": {
      "text/plain": [
       "10"
      ]
     },
     "execution_count": 20,
     "metadata": {},
     "output_type": "execute_result"
    }
   ],
   "source": [
    "# access element of array\n",
    "arr[1, 4]"
   ]
  },
  {
   "cell_type": "code",
   "execution_count": 21,
   "id": "5f6ca7ac-a8dd-4827-96a1-54315122cfd2",
   "metadata": {},
   "outputs": [
    {
     "data": {
      "text/plain": [
       "array([[ 3,  5],\n",
       "       [ 8, 10]])"
      ]
     },
     "execution_count": 21,
     "metadata": {},
     "output_type": "execute_result"
    }
   ],
   "source": [
    "arr[0:, 2::2]"
   ]
  },
  {
   "cell_type": "code",
   "execution_count": 22,
   "id": "97743cba-0d77-490c-8c65-18c2249638ef",
   "metadata": {},
   "outputs": [
    {
     "data": {
      "text/plain": [
       "array([[ 1,  3,  5],\n",
       "       [ 6,  8, 10]])"
      ]
     },
     "execution_count": 22,
     "metadata": {},
     "output_type": "execute_result"
    }
   ],
   "source": [
    "arr[0:, 0::2]"
   ]
  },
  {
   "cell_type": "markdown",
   "id": "2e189877-e721-4d72-bf06-6087dc18fbdf",
   "metadata": {},
   "source": [
    "## Checking Data Type in an Array"
   ]
  },
  {
   "cell_type": "code",
   "execution_count": 23,
   "id": "5018a5f0-2953-46f0-b166-a5e9e318312d",
   "metadata": {},
   "outputs": [
    {
     "data": {
      "text/plain": [
       "array([1, 2, 3, 4, 5])"
      ]
     },
     "execution_count": 23,
     "metadata": {},
     "output_type": "execute_result"
    }
   ],
   "source": [
    "arr = np.array([1, 2, 3, 4, 5])\n",
    "\n",
    "arr"
   ]
  },
  {
   "cell_type": "code",
   "execution_count": 24,
   "id": "dbb3cbeb-1219-40fa-adb5-7fd2c80d94c9",
   "metadata": {},
   "outputs": [
    {
     "data": {
      "text/plain": [
       "dtype('int32')"
      ]
     },
     "execution_count": 24,
     "metadata": {},
     "output_type": "execute_result"
    }
   ],
   "source": [
    "arr.dtype"
   ]
  },
  {
   "cell_type": "code",
   "execution_count": 25,
   "id": "0df7525b-19cb-4fb8-b7d6-dd589521d263",
   "metadata": {},
   "outputs": [
    {
     "data": {
      "text/plain": [
       "array([b'1', b'2', b'3', b'4'], dtype='|S1')"
      ]
     },
     "execution_count": 25,
     "metadata": {},
     "output_type": "execute_result"
    }
   ],
   "source": [
    "arr = np.array([1, 2, 3, 4,], dtype='S')\n",
    "\n",
    "arr"
   ]
  },
  {
   "cell_type": "code",
   "execution_count": 26,
   "id": "fec75701-b49e-46e9-9749-bfc5f6bf02cc",
   "metadata": {},
   "outputs": [
    {
     "data": {
      "text/plain": [
       "array([1, 2, 3, 4], dtype=int32)"
      ]
     },
     "execution_count": 26,
     "metadata": {},
     "output_type": "execute_result"
    }
   ],
   "source": [
    "arr = np.array([1, 2, 3, 4,], dtype='i')\n",
    "\n",
    "arr"
   ]
  },
  {
   "cell_type": "markdown",
   "id": "5ecf369d-c44c-4c9d-acfa-b08b5c1c4094",
   "metadata": {},
   "source": [
    "## Changing Data Type in an Array"
   ]
  },
  {
   "cell_type": "code",
   "execution_count": 27,
   "id": "b37d6e8a-057b-49f2-b03c-e19ad9b98071",
   "metadata": {},
   "outputs": [
    {
     "data": {
      "text/plain": [
       "array([1.3, 2.6, 5.1, 3.4, 4.5])"
      ]
     },
     "execution_count": 27,
     "metadata": {},
     "output_type": "execute_result"
    }
   ],
   "source": [
    "arr = np.array([1.3, 2.6, 5.1, 3.4, 4.5])\n",
    "\n",
    "arr"
   ]
  },
  {
   "cell_type": "code",
   "execution_count": 28,
   "id": "3abc8e10-29c2-4e6f-aa98-465fffe24ff7",
   "metadata": {},
   "outputs": [
    {
     "data": {
      "text/plain": [
       "dtype('float64')"
      ]
     },
     "execution_count": 28,
     "metadata": {},
     "output_type": "execute_result"
    }
   ],
   "source": [
    "arr.dtype"
   ]
  },
  {
   "cell_type": "code",
   "execution_count": 29,
   "id": "4edae5cd-87e1-4d8b-97d7-c14cfb37e156",
   "metadata": {},
   "outputs": [
    {
     "data": {
      "text/plain": [
       "array([1, 2, 5, 3, 4], dtype=int32)"
      ]
     },
     "execution_count": 29,
     "metadata": {},
     "output_type": "execute_result"
    }
   ],
   "source": [
    "arr = arr.astype('i')\n",
    "\n",
    "arr"
   ]
  },
  {
   "cell_type": "markdown",
   "id": "d87d56c6-61f6-4620-8c65-5d89a8509f1c",
   "metadata": {},
   "source": [
    "## Arange Function"
   ]
  },
  {
   "cell_type": "code",
   "execution_count": 30,
   "id": "55c383d7-873d-4ae9-be99-9900430d5e01",
   "metadata": {},
   "outputs": [
    {
     "data": {
      "text/plain": [
       "array([0, 1, 2, 3, 4, 5, 6, 7, 8, 9])"
      ]
     },
     "execution_count": 30,
     "metadata": {},
     "output_type": "execute_result"
    }
   ],
   "source": [
    "arr = np.arange(10)\n",
    "\n",
    "arr"
   ]
  },
  {
   "cell_type": "code",
   "execution_count": 31,
   "id": "175a03be-da55-4892-80ca-d09c264da5ab",
   "metadata": {},
   "outputs": [
    {
     "data": {
      "text/plain": [
       "array([10, 12, 14, 16, 18])"
      ]
     },
     "execution_count": 31,
     "metadata": {},
     "output_type": "execute_result"
    }
   ],
   "source": [
    "arr = np.arange(10, 20, 2)\n",
    "\n",
    "arr"
   ]
  },
  {
   "cell_type": "code",
   "execution_count": 32,
   "id": "42663dc4-630a-4644-bf80-22ef09c1cd8f",
   "metadata": {},
   "outputs": [
    {
     "data": {
      "text/plain": [
       "array([-1.00000000e+00, -9.00000000e-01, -8.00000000e-01, -7.00000000e-01,\n",
       "       -6.00000000e-01, -5.00000000e-01, -4.00000000e-01, -3.00000000e-01,\n",
       "       -2.00000000e-01, -1.00000000e-01, -2.22044605e-16,  1.00000000e-01,\n",
       "        2.00000000e-01,  3.00000000e-01,  4.00000000e-01,  5.00000000e-01,\n",
       "        6.00000000e-01,  7.00000000e-01,  8.00000000e-01,  9.00000000e-01])"
      ]
     },
     "execution_count": 32,
     "metadata": {},
     "output_type": "execute_result"
    }
   ],
   "source": [
    "arr = np.arange(-1, 1, 0.1)\n",
    "\n",
    "arr"
   ]
  },
  {
   "cell_type": "markdown",
   "id": "9f44161c-5e40-4a87-a4d1-3681e84654d6",
   "metadata": {},
   "source": [
    "# 3.3. SHAPE"
   ]
  },
  {
   "cell_type": "markdown",
   "id": "7980c3c7-0be2-493e-a155-63d49b0eb79c",
   "metadata": {},
   "source": [
    "## Shape of Array"
   ]
  },
  {
   "cell_type": "code",
   "execution_count": 33,
   "id": "5ee96ab0-08a9-4d3d-b9da-26f5b51ad330",
   "metadata": {},
   "outputs": [
    {
     "data": {
      "text/plain": [
       "array([[1, 2, 3],\n",
       "       [4, 5, 6]])"
      ]
     },
     "execution_count": 33,
     "metadata": {},
     "output_type": "execute_result"
    }
   ],
   "source": [
    "arr = np.array([[1, 2, 3], [4, 5, 6]])\n",
    "\n",
    "arr"
   ]
  },
  {
   "cell_type": "code",
   "execution_count": 34,
   "id": "cbbf97b1-fdab-4f5c-9c63-470bec1eca49",
   "metadata": {},
   "outputs": [
    {
     "data": {
      "text/plain": [
       "(2, 3)"
      ]
     },
     "execution_count": 34,
     "metadata": {},
     "output_type": "execute_result"
    }
   ],
   "source": [
    "# checking dimension\n",
    "arr.shape"
   ]
  },
  {
   "cell_type": "code",
   "execution_count": 35,
   "id": "cd7051d4-ba6d-4bae-a2ab-bf92b506cd64",
   "metadata": {},
   "outputs": [
    {
     "data": {
      "text/plain": [
       "6"
      ]
     },
     "execution_count": 35,
     "metadata": {},
     "output_type": "execute_result"
    }
   ],
   "source": [
    "# checking total of element\n",
    "arr.size"
   ]
  },
  {
   "cell_type": "code",
   "execution_count": 36,
   "id": "acb5e5c3-0f50-43cf-bfc5-a3ef41f4b03c",
   "metadata": {},
   "outputs": [
    {
     "data": {
      "text/plain": [
       "2"
      ]
     },
     "execution_count": 36,
     "metadata": {},
     "output_type": "execute_result"
    }
   ],
   "source": [
    "# checking dimension\n",
    "arr.ndim"
   ]
  },
  {
   "cell_type": "markdown",
   "id": "27c8aeb5-0dca-4588-9890-df34deeb8f04",
   "metadata": {},
   "source": [
    "## Reshape 1D to 2D"
   ]
  },
  {
   "cell_type": "code",
   "execution_count": 37,
   "id": "d21612bc-4537-4d0a-9186-1bebc9417b69",
   "metadata": {},
   "outputs": [
    {
     "data": {
      "text/plain": [
       "array([ 1,  2,  3,  4,  5,  6,  7,  8,  9, 10, 11, 12])"
      ]
     },
     "execution_count": 37,
     "metadata": {},
     "output_type": "execute_result"
    }
   ],
   "source": [
    "arr = np.array([1, 2, 3, 4, 5, 6, 7, 8, 9, 10, 11, 12])\n",
    "\n",
    "arr"
   ]
  },
  {
   "cell_type": "code",
   "execution_count": 38,
   "id": "5159509e-0d90-442e-9153-306178b928b4",
   "metadata": {},
   "outputs": [
    {
     "data": {
      "text/plain": [
       "(12,)"
      ]
     },
     "execution_count": 38,
     "metadata": {},
     "output_type": "execute_result"
    }
   ],
   "source": [
    "arr.shape"
   ]
  },
  {
   "cell_type": "code",
   "execution_count": 39,
   "id": "37ef2a09-41ee-4b49-9be0-705338fc9477",
   "metadata": {},
   "outputs": [
    {
     "data": {
      "text/plain": [
       "1"
      ]
     },
     "execution_count": 39,
     "metadata": {},
     "output_type": "execute_result"
    }
   ],
   "source": [
    "arr.ndim"
   ]
  },
  {
   "cell_type": "code",
   "execution_count": 40,
   "id": "ebb21a5c-3937-42d0-bf37-140460777aa9",
   "metadata": {},
   "outputs": [
    {
     "data": {
      "text/plain": [
       "array([[ 1,  2],\n",
       "       [ 3,  4],\n",
       "       [ 5,  6],\n",
       "       [ 7,  8],\n",
       "       [ 9, 10],\n",
       "       [11, 12]])"
      ]
     },
     "execution_count": 40,
     "metadata": {},
     "output_type": "execute_result"
    }
   ],
   "source": [
    "arr = arr.reshape(6, 2)\n",
    "\n",
    "arr"
   ]
  },
  {
   "cell_type": "code",
   "execution_count": 41,
   "id": "d04e1cde-958f-4e00-a902-8a13bf14b34b",
   "metadata": {},
   "outputs": [
    {
     "data": {
      "text/plain": [
       "2"
      ]
     },
     "execution_count": 41,
     "metadata": {},
     "output_type": "execute_result"
    }
   ],
   "source": [
    "arr.ndim"
   ]
  },
  {
   "cell_type": "markdown",
   "id": "238c906a-5fa6-4e17-a1d5-fcbdee2ba5f8",
   "metadata": {},
   "source": [
    "## Reshape 1D to 3D"
   ]
  },
  {
   "cell_type": "code",
   "execution_count": 42,
   "id": "bb2d4f77-212c-4d9c-9687-f7f76b0ec0c8",
   "metadata": {},
   "outputs": [
    {
     "data": {
      "text/plain": [
       "array([ 1,  2,  3,  4,  5,  6,  7,  8,  9, 10, 11, 12])"
      ]
     },
     "execution_count": 42,
     "metadata": {},
     "output_type": "execute_result"
    }
   ],
   "source": [
    "arr = np.array([1, 2, 3, 4, 5, 6, 7, 8, 9, 10, 11, 12])\n",
    "\n",
    "arr"
   ]
  },
  {
   "cell_type": "code",
   "execution_count": 43,
   "id": "c4522c3b-716e-46b6-b64c-45d035e4694c",
   "metadata": {},
   "outputs": [
    {
     "data": {
      "text/plain": [
       "array([[[ 1,  2],\n",
       "        [ 3,  4],\n",
       "        [ 5,  6]],\n",
       "\n",
       "       [[ 7,  8],\n",
       "        [ 9, 10],\n",
       "        [11, 12]]])"
      ]
     },
     "execution_count": 43,
     "metadata": {},
     "output_type": "execute_result"
    }
   ],
   "source": [
    "arr = arr.reshape(2, 3, 2)\n",
    "\n",
    "arr"
   ]
  },
  {
   "cell_type": "code",
   "execution_count": 44,
   "id": "5056d0da-90d6-4c37-ab8e-51a263c57653",
   "metadata": {},
   "outputs": [
    {
     "data": {
      "text/plain": [
       "3"
      ]
     },
     "execution_count": 44,
     "metadata": {},
     "output_type": "execute_result"
    }
   ],
   "source": [
    "arr.ndim"
   ]
  },
  {
   "cell_type": "markdown",
   "id": "0a01e44b-a8b9-4e42-9a1d-ce70c9662c12",
   "metadata": {},
   "source": [
    "## Using -1 to Reshape Array"
   ]
  },
  {
   "cell_type": "code",
   "execution_count": 45,
   "id": "2bb838a6-d578-4656-89a7-2cbb24f6bc7b",
   "metadata": {},
   "outputs": [
    {
     "data": {
      "text/plain": [
       "array([ 1,  2,  3,  4,  5,  6,  7,  8,  9, 10, 11, 12])"
      ]
     },
     "execution_count": 45,
     "metadata": {},
     "output_type": "execute_result"
    }
   ],
   "source": [
    "arr = np.array([1, 2, 3, 4, 5, 6, 7, 8, 9, 10, 11, 12])\n",
    "\n",
    "arr"
   ]
  },
  {
   "cell_type": "code",
   "execution_count": 46,
   "id": "ab57288c-ae2c-4e3b-ae63-f3765f90693a",
   "metadata": {},
   "outputs": [
    {
     "data": {
      "text/plain": [
       "array([[[ 1,  2],\n",
       "        [ 3,  4]],\n",
       "\n",
       "       [[ 5,  6],\n",
       "        [ 7,  8]],\n",
       "\n",
       "       [[ 9, 10],\n",
       "        [11, 12]]])"
      ]
     },
     "execution_count": 46,
     "metadata": {},
     "output_type": "execute_result"
    }
   ],
   "source": [
    "arr = arr.reshape(3, 2, -1)\n",
    "\n",
    "arr"
   ]
  },
  {
   "cell_type": "markdown",
   "id": "64067bb7-f1aa-422c-8811-eeb82164549b",
   "metadata": {},
   "source": [
    "## Flattening in Array"
   ]
  },
  {
   "cell_type": "code",
   "execution_count": 47,
   "id": "80745d9e-788e-4c78-b63c-d3e3f50cf3b5",
   "metadata": {},
   "outputs": [
    {
     "data": {
      "text/plain": [
       "array([[1, 2, 3],\n",
       "       [4, 5, 6]])"
      ]
     },
     "execution_count": 47,
     "metadata": {},
     "output_type": "execute_result"
    }
   ],
   "source": [
    "arr = np.array([[1, 2, 3], [4, 5, 6]])\n",
    "\n",
    "arr"
   ]
  },
  {
   "cell_type": "code",
   "execution_count": 48,
   "id": "5c9771cb-c3ff-46bb-ab86-ba9890cd6836",
   "metadata": {},
   "outputs": [
    {
     "data": {
      "text/plain": [
       "array([1, 2, 3, 4, 5, 6])"
      ]
     },
     "execution_count": 48,
     "metadata": {},
     "output_type": "execute_result"
    }
   ],
   "source": [
    "# flattening\n",
    "arr = arr.reshape(-1)\n",
    "\n",
    "arr"
   ]
  },
  {
   "cell_type": "code",
   "execution_count": 49,
   "id": "0bcb00d0-804c-46ec-aef9-ea5f34682337",
   "metadata": {},
   "outputs": [
    {
     "data": {
      "text/plain": [
       "array([[1, 2, 3],\n",
       "       [4, 5, 6]])"
      ]
     },
     "execution_count": 49,
     "metadata": {},
     "output_type": "execute_result"
    }
   ],
   "source": [
    "arr = np.array([[1, 2, 3], [4, 5, 6]])\n",
    "\n",
    "arr"
   ]
  },
  {
   "cell_type": "code",
   "execution_count": 50,
   "id": "55a5c722-5111-4ddc-a745-f86d86ba173d",
   "metadata": {},
   "outputs": [
    {
     "data": {
      "text/plain": [
       "array([1, 2, 3, 4, 5, 6])"
      ]
     },
     "execution_count": 50,
     "metadata": {},
     "output_type": "execute_result"
    }
   ],
   "source": [
    "# flattening\n",
    "arr = arr.flatten()\n",
    "\n",
    "arr"
   ]
  },
  {
   "cell_type": "markdown",
   "id": "53a61c23-bf86-4dbe-9ff3-deb8047b36f7",
   "metadata": {},
   "source": [
    "## Duplicate Array with copy()"
   ]
  },
  {
   "cell_type": "code",
   "execution_count": 51,
   "id": "ce9a95ba-d3a6-4a32-8361-39225ece0fb8",
   "metadata": {},
   "outputs": [],
   "source": [
    "arr = np.array([1, 2, 3, 4, 5])\n",
    "x = arr.copy()"
   ]
  },
  {
   "cell_type": "code",
   "execution_count": 52,
   "id": "b7867413-7c97-4352-b4df-bccb7846d478",
   "metadata": {},
   "outputs": [],
   "source": [
    "arr[0] = 42"
   ]
  },
  {
   "cell_type": "code",
   "execution_count": 53,
   "id": "636242dc-7ca2-46ec-9e09-de18aa93f414",
   "metadata": {},
   "outputs": [
    {
     "name": "stdout",
     "output_type": "stream",
     "text": [
      "[42  2  3  4  5]\n"
     ]
    }
   ],
   "source": [
    "print(arr)"
   ]
  },
  {
   "cell_type": "code",
   "execution_count": 54,
   "id": "c298a3ce-4941-4297-82b5-4f5a9caa3b09",
   "metadata": {},
   "outputs": [
    {
     "name": "stdout",
     "output_type": "stream",
     "text": [
      "[1 2 3 4 5]\n"
     ]
    }
   ],
   "source": [
    "print(x)"
   ]
  },
  {
   "cell_type": "markdown",
   "id": "a4a4ba7c-9a18-4085-a4ef-9e576df54ccd",
   "metadata": {},
   "source": [
    "## Duplicate Array with view()"
   ]
  },
  {
   "cell_type": "code",
   "execution_count": 55,
   "id": "6855b088-a620-457b-b5b6-765602e2cd5c",
   "metadata": {},
   "outputs": [],
   "source": [
    "arr = np.array([1, 2, 3, 4, 5])\n",
    "x = arr.view()"
   ]
  },
  {
   "cell_type": "code",
   "execution_count": 56,
   "id": "44276a82-a215-4cd4-9320-79c1f343a840",
   "metadata": {},
   "outputs": [],
   "source": [
    "arr[0] = 42"
   ]
  },
  {
   "cell_type": "code",
   "execution_count": 57,
   "id": "85293d14-5f47-4eaf-a28a-8a149a5b724a",
   "metadata": {},
   "outputs": [
    {
     "name": "stdout",
     "output_type": "stream",
     "text": [
      "[42  2  3  4  5]\n"
     ]
    }
   ],
   "source": [
    "print(arr)"
   ]
  },
  {
   "cell_type": "code",
   "execution_count": 58,
   "id": "9e847bdc-557b-4482-af59-e5a2a6e489f9",
   "metadata": {},
   "outputs": [
    {
     "name": "stdout",
     "output_type": "stream",
     "text": [
      "[42  2  3  4  5]\n"
     ]
    }
   ],
   "source": [
    "print(x)"
   ]
  },
  {
   "cell_type": "markdown",
   "id": "db8e093c-1daa-4031-991e-94c092ec7c15",
   "metadata": {},
   "source": [
    "# 3.4. OPERATION"
   ]
  },
  {
   "cell_type": "markdown",
   "id": "17bd6d70-d01e-4ad6-bb90-c5b363c5a6e5",
   "metadata": {},
   "source": [
    "## Iteration"
   ]
  },
  {
   "cell_type": "code",
   "execution_count": 59,
   "id": "10c80722-7771-4162-abec-dbbbf3bc1704",
   "metadata": {},
   "outputs": [
    {
     "data": {
      "text/plain": [
       "array([[ 1,  2,  3,  4,  5],\n",
       "       [ 6,  7,  8,  9, 10]])"
      ]
     },
     "execution_count": 59,
     "metadata": {},
     "output_type": "execute_result"
    }
   ],
   "source": [
    "arr = np.array([[1, 2, 3, 4, 5], [6, 7, 8, 9, 10]])\n",
    "\n",
    "arr"
   ]
  },
  {
   "cell_type": "code",
   "execution_count": 60,
   "id": "6cc1b408-7b78-424e-91b0-2ec73f78949c",
   "metadata": {},
   "outputs": [
    {
     "name": "stdout",
     "output_type": "stream",
     "text": [
      "[1 2 3 4 5]\n",
      "[ 6  7  8  9 10]\n"
     ]
    }
   ],
   "source": [
    "for x in arr:\n",
    "    print(x)"
   ]
  },
  {
   "cell_type": "markdown",
   "id": "9ae00be4-d8cb-4891-9fd4-dd6fee171822",
   "metadata": {},
   "source": [
    "## Iteration with nditer()"
   ]
  },
  {
   "cell_type": "code",
   "execution_count": 61,
   "id": "88dc971a-0986-4340-9da7-9e2f4056b6db",
   "metadata": {},
   "outputs": [
    {
     "data": {
      "text/plain": [
       "array([[[1, 2],\n",
       "        [3, 4],\n",
       "        [5, 6],\n",
       "        [7, 8]]])"
      ]
     },
     "execution_count": 61,
     "metadata": {},
     "output_type": "execute_result"
    }
   ],
   "source": [
    "arr = np.array([[[1, 2], [3, 4], [5, 6], [7, 8]]])\n",
    "\n",
    "arr"
   ]
  },
  {
   "cell_type": "code",
   "execution_count": 63,
   "id": "2ef1c019-cf67-410a-b13c-e39b2b37c68c",
   "metadata": {},
   "outputs": [
    {
     "name": "stdout",
     "output_type": "stream",
     "text": [
      "1\n",
      "2\n",
      "3\n",
      "4\n",
      "5\n",
      "6\n",
      "7\n",
      "8\n"
     ]
    }
   ],
   "source": [
    "for x in np.nditer(arr):\n",
    "    print(x)"
   ]
  },
  {
   "cell_type": "markdown",
   "id": "e7de96dc-4906-4a56-a5ec-f39ddbe410ce",
   "metadata": {},
   "source": [
    "## Iteration with ndenumerate()"
   ]
  },
  {
   "cell_type": "code",
   "execution_count": 64,
   "id": "750dee55-e9e5-4d6f-ba58-141b888c094b",
   "metadata": {},
   "outputs": [
    {
     "data": {
      "text/plain": [
       "array([[ 1,  2,  3,  4,  5],\n",
       "       [ 6,  7,  8,  9, 10]])"
      ]
     },
     "execution_count": 64,
     "metadata": {},
     "output_type": "execute_result"
    }
   ],
   "source": [
    "arr = np.array([[1, 2, 3, 4, 5], [6, 7, 8, 9, 10]])\n",
    "\n",
    "arr"
   ]
  },
  {
   "cell_type": "code",
   "execution_count": 65,
   "id": "e90f4912-9d3a-4ef5-8d60-0b0ec80cb798",
   "metadata": {},
   "outputs": [
    {
     "name": "stdout",
     "output_type": "stream",
     "text": [
      "(0, 0) 1\n",
      "(0, 1) 2\n",
      "(0, 2) 3\n",
      "(0, 3) 4\n",
      "(0, 4) 5\n",
      "(1, 0) 6\n",
      "(1, 1) 7\n",
      "(1, 2) 8\n",
      "(1, 3) 9\n",
      "(1, 4) 10\n"
     ]
    }
   ],
   "source": [
    "for indeks, x in np.ndenumerate(arr):\n",
    "    print(indeks, x)"
   ]
  },
  {
   "cell_type": "markdown",
   "id": "130bdea2-d511-412d-9b79-1d925b114082",
   "metadata": {},
   "source": [
    "## Join"
   ]
  },
  {
   "cell_type": "code",
   "execution_count": 67,
   "id": "472df84a-a235-4710-b520-b366a11ee54c",
   "metadata": {},
   "outputs": [
    {
     "data": {
      "text/plain": [
       "array([1, 2, 3, 4, 5, 6])"
      ]
     },
     "execution_count": 67,
     "metadata": {},
     "output_type": "execute_result"
    }
   ],
   "source": [
    "arr1 = np.array([1, 2, 3])\n",
    "arr2 = np.array([4, 5, 6])\n",
    "\n",
    "arr = np.concatenate((arr1, arr2))\n",
    "arr"
   ]
  },
  {
   "cell_type": "code",
   "execution_count": 69,
   "id": "573e0ff9-bc1f-4663-ac9c-74d94b8017db",
   "metadata": {},
   "outputs": [],
   "source": [
    "arr1 = np.array([[1, 2], [6, 7]])\n",
    "arr2 = np.array([[3, 4], [5, 8]])\n",
    "\n"
   ]
  },
  {
   "cell_type": "code",
   "execution_count": 71,
   "id": "2dc8ef1b-5698-4888-af75-cb27ed81ee4c",
   "metadata": {},
   "outputs": [
    {
     "data": {
      "text/plain": [
       "array([[1, 2, 3, 4],\n",
       "       [6, 7, 5, 8]])"
      ]
     },
     "execution_count": 71,
     "metadata": {},
     "output_type": "execute_result"
    }
   ],
   "source": [
    "arr = np.concatenate((arr1, arr2), axis=1)\n",
    "arr"
   ]
  },
  {
   "cell_type": "markdown",
   "id": "68a5e2c3-c95e-4cc6-a71c-2e1ce765a44d",
   "metadata": {},
   "source": [
    "## Stack"
   ]
  },
  {
   "cell_type": "code",
   "execution_count": 72,
   "id": "b6c1401c-197a-419a-8bb2-6a523f206ce3",
   "metadata": {},
   "outputs": [
    {
     "data": {
      "text/plain": [
       "array([[1, 2, 3],\n",
       "       [4, 5, 6]])"
      ]
     },
     "execution_count": 72,
     "metadata": {},
     "output_type": "execute_result"
    }
   ],
   "source": [
    "arr1 = np.array([1, 2, 3])\n",
    "arr2 = np.array([4, 5, 6])\n",
    "\n",
    "arr = np.stack((arr1, arr2))\n",
    "arr"
   ]
  },
  {
   "cell_type": "code",
   "execution_count": 73,
   "id": "556f4a2e-fefb-4432-aa9c-a33b8000f5dc",
   "metadata": {},
   "outputs": [
    {
     "data": {
      "text/plain": [
       "(2, 3)"
      ]
     },
     "execution_count": 73,
     "metadata": {},
     "output_type": "execute_result"
    }
   ],
   "source": [
    "arr.shape"
   ]
  },
  {
   "cell_type": "markdown",
   "id": "396e3458-3e3f-47ad-868b-98ea152b8a49",
   "metadata": {},
   "source": [
    "## Stack with hstack()"
   ]
  },
  {
   "cell_type": "code",
   "execution_count": 75,
   "id": "ac8667d1-b156-4f18-87c3-0da0edc1eaa0",
   "metadata": {},
   "outputs": [
    {
     "data": {
      "text/plain": [
       "array([1, 2, 3, 4, 5, 6])"
      ]
     },
     "execution_count": 75,
     "metadata": {},
     "output_type": "execute_result"
    }
   ],
   "source": [
    "arr1 = np.array([1, 2, 3])\n",
    "arr2 = np.array([4, 5, 6])\n",
    "\n",
    "arr = np.hstack((arr1, arr2))\n",
    "arr"
   ]
  },
  {
   "cell_type": "markdown",
   "id": "91b534ab-e817-4965-974e-fe26cd51427b",
   "metadata": {},
   "source": [
    "## Stack with vstack()"
   ]
  },
  {
   "cell_type": "code",
   "execution_count": 76,
   "id": "49611db7-66cf-4baf-810c-a89059ee577b",
   "metadata": {},
   "outputs": [
    {
     "data": {
      "text/plain": [
       "array([[1, 2, 3],\n",
       "       [4, 5, 6]])"
      ]
     },
     "execution_count": 76,
     "metadata": {},
     "output_type": "execute_result"
    }
   ],
   "source": [
    "arr1 = np.array([1, 2, 3])\n",
    "arr2 = np.array([4, 5, 6])\n",
    "\n",
    "arr = np.vstack((arr1, arr2))\n",
    "arr"
   ]
  },
  {
   "cell_type": "markdown",
   "id": "8d3c96f0-605c-4987-855c-460097eaca61",
   "metadata": {},
   "source": [
    "## Split"
   ]
  },
  {
   "cell_type": "code",
   "execution_count": 77,
   "id": "e25017ad-f4e3-4317-b323-be6f9836a235",
   "metadata": {},
   "outputs": [
    {
     "data": {
      "text/plain": [
       "array([1, 2, 3, 4, 5, 6, 7, 8])"
      ]
     },
     "execution_count": 77,
     "metadata": {},
     "output_type": "execute_result"
    }
   ],
   "source": [
    "arr = np.array([1, 2, 3, 4, 5, 6, 7, 8])\n",
    "arr"
   ]
  },
  {
   "cell_type": "code",
   "execution_count": 79,
   "id": "01a5dc8f-d82b-483f-b7a2-0a6ce14aebac",
   "metadata": {},
   "outputs": [
    {
     "data": {
      "text/plain": [
       "[array([[1, 2]]), array([[3, 4]]), array([[5, 6]]), array([[7, 8]])]"
      ]
     },
     "execution_count": 79,
     "metadata": {},
     "output_type": "execute_result"
    }
   ],
   "source": [
    "arr = np.array_split(arr, 4)\n",
    "arr"
   ]
  },
  {
   "cell_type": "code",
   "execution_count": 80,
   "id": "663142ea-9982-4df5-b86b-4139ea013b5a",
   "metadata": {},
   "outputs": [
    {
     "data": {
      "text/plain": [
       "[array([[[1, 2]],\n",
       " \n",
       "        [[3, 4]]]),\n",
       " array([[[5, 6]],\n",
       " \n",
       "        [[7, 8]]])]"
      ]
     },
     "execution_count": 80,
     "metadata": {},
     "output_type": "execute_result"
    }
   ],
   "source": [
    "arr = np.array_split(arr, 2)\n",
    "arr"
   ]
  },
  {
   "cell_type": "code",
   "execution_count": 81,
   "id": "8adc550e-f40f-46e6-ab73-9efe46a19269",
   "metadata": {},
   "outputs": [
    {
     "data": {
      "text/plain": [
       "array([[ 1,  2,  3,  4,  5],\n",
       "       [ 6,  7,  8,  9, 10],\n",
       "       [11, 12, 13, 14, 15]])"
      ]
     },
     "execution_count": 81,
     "metadata": {},
     "output_type": "execute_result"
    }
   ],
   "source": [
    "arr = np.array([[1, 2, 3, 4, 5], \n",
    "                [6, 7, 8, 9, 10], \n",
    "                [11, 12, 13, 14, 15]])\n",
    "arr"
   ]
  },
  {
   "cell_type": "code",
   "execution_count": 83,
   "id": "973d82de-b5ef-49e5-93e4-00e06fcc495f",
   "metadata": {},
   "outputs": [
    {
     "data": {
      "text/plain": [
       "[array([[[ 1,  2,  3,  4,  5]],\n",
       " \n",
       "        [[ 6,  7,  8,  9, 10]],\n",
       " \n",
       "        [[11, 12, 13, 14, 15]]]),\n",
       " array([], shape=(3, 0, 5), dtype=int32),\n",
       " array([], shape=(3, 0, 5), dtype=int32)]"
      ]
     },
     "execution_count": 83,
     "metadata": {},
     "output_type": "execute_result"
    }
   ],
   "source": [
    "arr = np.array_split(arr, 3, axis=1)\n",
    "arr"
   ]
  },
  {
   "cell_type": "markdown",
   "id": "42dd8bfb-c473-47d7-a887-65ce7d5b4315",
   "metadata": {},
   "source": [
    "## Search"
   ]
  },
  {
   "cell_type": "code",
   "execution_count": 87,
   "id": "81d9dd10-67ab-4f17-99fe-2022af1d8d4a",
   "metadata": {},
   "outputs": [
    {
     "data": {
      "text/plain": [
       "array([1, 8, 3, 4, 8, 6, 7, 8])"
      ]
     },
     "execution_count": 87,
     "metadata": {},
     "output_type": "execute_result"
    }
   ],
   "source": [
    "arr = np.array([1, 8, 3, 4, 8, 6, 7, 8])\n",
    "arr"
   ]
  },
  {
   "cell_type": "code",
   "execution_count": 88,
   "id": "1dcd61ac-bc17-4e64-b5ef-5b76d7232485",
   "metadata": {},
   "outputs": [
    {
     "data": {
      "text/plain": [
       "(array([1, 4, 7], dtype=int64),)"
      ]
     },
     "execution_count": 88,
     "metadata": {},
     "output_type": "execute_result"
    }
   ],
   "source": [
    "x = np.where(arr == 8)\n",
    "x"
   ]
  },
  {
   "cell_type": "markdown",
   "id": "65e7e253-e01a-467a-8ac8-40f3e6aa8c87",
   "metadata": {},
   "source": [
    "## Sort"
   ]
  },
  {
   "cell_type": "code",
   "execution_count": 89,
   "id": "2f238685-f405-4685-8ad2-a837a6ec2720",
   "metadata": {},
   "outputs": [
    {
     "data": {
      "text/plain": [
       "array([1, 3, 2, 5, 4, 6])"
      ]
     },
     "execution_count": 89,
     "metadata": {},
     "output_type": "execute_result"
    }
   ],
   "source": [
    "arr = np.array([1, 3, 2, 5, 4, 6])\n",
    "arr"
   ]
  },
  {
   "cell_type": "code",
   "execution_count": 90,
   "id": "6c4ffc42-1ece-40ad-ac56-687463d31348",
   "metadata": {},
   "outputs": [
    {
     "data": {
      "text/plain": [
       "array([1, 2, 3, 4, 5, 6])"
      ]
     },
     "execution_count": 90,
     "metadata": {},
     "output_type": "execute_result"
    }
   ],
   "source": [
    "arr = np.sort(arr)\n",
    "arr"
   ]
  },
  {
   "cell_type": "markdown",
   "id": "510cea93-8d72-4909-ac5c-fc99254aa3fa",
   "metadata": {},
   "source": [
    "# 3.5. FILTER"
   ]
  },
  {
   "cell_type": "code",
   "execution_count": 91,
   "id": "54b15ba4-d9eb-4964-ba53-1dd3979e0291",
   "metadata": {},
   "outputs": [
    {
     "data": {
      "text/plain": [
       "array([100,  55,  89,  80,  70,  66,  30,  20,  45])"
      ]
     },
     "execution_count": 91,
     "metadata": {},
     "output_type": "execute_result"
    }
   ],
   "source": [
    "arr = np.array([100, 55, 89, 80, 70, 66, 30, 20, 45])\n",
    "arr"
   ]
  },
  {
   "cell_type": "code",
   "execution_count": 92,
   "id": "cfa38c32-fc6c-49e8-b12c-5aaa5e933dcf",
   "metadata": {},
   "outputs": [
    {
     "data": {
      "text/plain": [
       "array([100])"
      ]
     },
     "execution_count": 92,
     "metadata": {},
     "output_type": "execute_result"
    }
   ],
   "source": [
    "filter = arr[arr == 100]\n",
    "filter"
   ]
  },
  {
   "cell_type": "code",
   "execution_count": 95,
   "id": "66e1b22f-65a3-480d-a883-861af6117dc0",
   "metadata": {},
   "outputs": [
    {
     "data": {
      "text/plain": [
       "array([ 55,  66,  70,  80,  89, 100])"
      ]
     },
     "execution_count": 95,
     "metadata": {},
     "output_type": "execute_result"
    }
   ],
   "source": [
    "filter =  arr[arr >= 50]\n",
    "np.sort(filter)"
   ]
  },
  {
   "cell_type": "code",
   "execution_count": 96,
   "id": "95c3a379-22ea-4b8a-a919-976cc653f89a",
   "metadata": {},
   "outputs": [
    {
     "data": {
      "text/plain": [
       "array([['1', 'one'],\n",
       "       ['2', 'two'],\n",
       "       ['3', 'three'],\n",
       "       ['4', 'four']], dtype='<U11')"
      ]
     },
     "execution_count": 96,
     "metadata": {},
     "output_type": "execute_result"
    }
   ],
   "source": [
    "arr = np.array([[1, 'one'], \n",
    "                [2, 'two'], \n",
    "                [3, 'three'], \n",
    "                [4, 'four']])\n",
    "arr"
   ]
  },
  {
   "cell_type": "code",
   "execution_count": 97,
   "id": "d7951e0e-6c91-4c6c-b974-d49d83d59bd1",
   "metadata": {},
   "outputs": [
    {
     "data": {
      "text/plain": [
       "array(['two', 'four'], dtype='<U4')"
      ]
     },
     "execution_count": 97,
     "metadata": {},
     "output_type": "execute_result"
    }
   ],
   "source": [
    "filter = np.array(['two', 'four'])\n",
    "filter"
   ]
  },
  {
   "cell_type": "code",
   "execution_count": 98,
   "id": "efefc7c0-6e06-427b-b6c7-7b73d0f0185e",
   "metadata": {},
   "outputs": [
    {
     "data": {
      "text/plain": [
       "array([['2', 'two'],\n",
       "       ['4', 'four']], dtype='<U11')"
      ]
     },
     "execution_count": 98,
     "metadata": {},
     "output_type": "execute_result"
    }
   ],
   "source": [
    "arr_filtered = arr[np.in1d(arr[:, 1], filter)]\n",
    "arr_filtered"
   ]
  },
  {
   "cell_type": "markdown",
   "id": "be6d223d-e00a-40ab-a383-2093f80703a0",
   "metadata": {},
   "source": [
    "# 3.6. RANDOM"
   ]
  },
  {
   "cell_type": "code",
   "execution_count": 99,
   "id": "c1918151-4c0d-4995-a5ad-0cb13f4b94ab",
   "metadata": {},
   "outputs": [],
   "source": [
    "from numpy import random"
   ]
  },
  {
   "cell_type": "code",
   "execution_count": 103,
   "id": "8e291f0f-29a3-4b74-bed3-a6ee2e14e605",
   "metadata": {},
   "outputs": [
    {
     "data": {
      "text/plain": [
       "94"
      ]
     },
     "execution_count": 103,
     "metadata": {},
     "output_type": "execute_result"
    }
   ],
   "source": [
    "x = random.randint(100)\n",
    "x"
   ]
  },
  {
   "cell_type": "code",
   "execution_count": 102,
   "id": "5410def0-fd8a-41a4-93b0-40e614ad0b33",
   "metadata": {},
   "outputs": [
    {
     "data": {
      "text/plain": [
       "array([0.61108852, 0.03592814, 0.32422671, 0.44797791, 0.70744115,\n",
       "       0.39393742, 0.42597892, 0.81330358, 0.90472461, 0.06263188,\n",
       "       0.0474553 , 0.00299005, 0.45987514, 0.30795788, 0.20206617,\n",
       "       0.71845815, 0.99521768, 0.47253054, 0.37967826, 0.00389879,\n",
       "       0.06978068, 0.46204363, 0.10157623, 0.58743012, 0.03426743,\n",
       "       0.87204531, 0.51962636, 0.54159581, 0.44987698, 0.0638722 ,\n",
       "       0.08080401, 0.08356242, 0.01526355, 0.10920977, 0.25288466,\n",
       "       0.28703611, 0.49578314, 0.84803475, 0.71065649, 0.92007727,\n",
       "       0.14489503, 0.96151346, 0.72746188, 0.97308653, 0.90467336,\n",
       "       0.02083215, 0.01798112, 0.47898538, 0.24269853, 0.27040694,\n",
       "       0.26452819, 0.22024904, 0.32783732, 0.06114869, 0.5529683 ,\n",
       "       0.31111056, 0.73710418, 0.62296918, 0.67933456, 0.06900361,\n",
       "       0.61742361, 0.14638332, 0.58024035, 0.98894992, 0.12766575,\n",
       "       0.35461502, 0.00325058, 0.88775664, 0.88597432, 0.26175668,\n",
       "       0.59269415, 0.90590689, 0.65889357, 0.58070677, 0.82042572,\n",
       "       0.0759796 , 0.5539763 , 0.43625821, 0.42096586, 0.16576563,\n",
       "       0.92557332, 0.67910686, 0.50472473, 0.57258981, 0.30573454,\n",
       "       0.73387733, 0.99978651, 0.75131319, 0.51696348, 0.98472313,\n",
       "       0.4137506 , 0.48377193, 0.88100321, 0.94989946, 0.88409459,\n",
       "       0.72941121, 0.0561299 , 0.30911404, 0.08372259, 0.24179235])"
      ]
     },
     "execution_count": 102,
     "metadata": {},
     "output_type": "execute_result"
    }
   ],
   "source": [
    "x = random.rand(100)\n",
    "x"
   ]
  },
  {
   "cell_type": "code",
   "execution_count": 104,
   "id": "c1421b75-0651-4b46-97d3-2a2373e455b2",
   "metadata": {},
   "outputs": [
    {
     "data": {
      "text/plain": [
       "0.3723940196944302"
      ]
     },
     "execution_count": 104,
     "metadata": {},
     "output_type": "execute_result"
    }
   ],
   "source": [
    "x = random.rand()\n",
    "x"
   ]
  },
  {
   "cell_type": "code",
   "execution_count": 105,
   "id": "89421f43-c5de-4a66-a2ba-529a73b649f0",
   "metadata": {},
   "outputs": [
    {
     "data": {
      "text/plain": [
       "array([[11, 52, 21, 17, 98],\n",
       "       [70, 43, 87, 44, 99],\n",
       "       [42,  6, 51, 74, 56]])"
      ]
     },
     "execution_count": 105,
     "metadata": {},
     "output_type": "execute_result"
    }
   ],
   "source": [
    "arr =  random.randint(100, size=(3, 5))\n",
    "arr"
   ]
  },
  {
   "cell_type": "code",
   "execution_count": 109,
   "id": "c5ec17d6-f084-4fe5-b51a-60c3eb3406c8",
   "metadata": {},
   "outputs": [
    {
     "data": {
      "text/plain": [
       "array([[0.91449842, 0.75940206],\n",
       "       [0.67996335, 0.44122138],\n",
       "       [0.5157856 , 0.10712075],\n",
       "       [0.87614956, 0.25077399]])"
      ]
     },
     "execution_count": 109,
     "metadata": {},
     "output_type": "execute_result"
    }
   ],
   "source": [
    "arr =  random.rand(4, 2)\n",
    "arr"
   ]
  },
  {
   "cell_type": "code",
   "execution_count": 110,
   "id": "c0bd1b7c-a0c4-4857-810f-6dc06f10f4c6",
   "metadata": {},
   "outputs": [
    {
     "data": {
      "text/plain": [
       "9"
      ]
     },
     "execution_count": 110,
     "metadata": {},
     "output_type": "execute_result"
    }
   ],
   "source": [
    "arr = random.choice([3, 5, 7, 9])\n",
    "arr"
   ]
  },
  {
   "cell_type": "code",
   "execution_count": 112,
   "id": "f02be972-e65c-4af8-853f-bc0fa228b98e",
   "metadata": {},
   "outputs": [
    {
     "data": {
      "text/plain": [
       "array([5, 4, 3, 1, 2])"
      ]
     },
     "execution_count": 112,
     "metadata": {},
     "output_type": "execute_result"
    }
   ],
   "source": [
    "arr = np.array([1, 2, 3, 4, 5])\n",
    "random.shuffle(arr)\n",
    "arr"
   ]
  },
  {
   "cell_type": "code",
   "execution_count": null,
   "id": "2e108bea-356c-449c-938c-5f6d7d1df238",
   "metadata": {},
   "outputs": [],
   "source": []
  }
 ],
 "metadata": {
  "kernelspec": {
   "display_name": "Python 3 (ipykernel)",
   "language": "python",
   "name": "python3"
  },
  "language_info": {
   "codemirror_mode": {
    "name": "ipython",
    "version": 3
   },
   "file_extension": ".py",
   "mimetype": "text/x-python",
   "name": "python",
   "nbconvert_exporter": "python",
   "pygments_lexer": "ipython3",
   "version": "3.11.5"
  }
 },
 "nbformat": 4,
 "nbformat_minor": 5
}
