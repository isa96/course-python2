{
 "cells": [
  {
   "cell_type": "markdown",
   "id": "a09cb78e-88ed-4e56-89dc-3567cd75c946",
   "metadata": {},
   "source": [
    "# MATEMATIKA DAN STATISTIKA - SKALAR, VEKTOR, DAN MATRIKS"
   ]
  },
  {
   "cell_type": "code",
   "execution_count": 1,
   "id": "4d70c8e8-deeb-4fba-a11c-ebb83c1dff51",
   "metadata": {},
   "outputs": [
    {
     "data": {
      "text/plain": [
       "(5, 25)"
      ]
     },
     "execution_count": 1,
     "metadata": {},
     "output_type": "execute_result"
    }
   ],
   "source": [
    "x = min(10, 5, 25)\n",
    "y = max(10, 5, 25)\n",
    "\n",
    "x, y"
   ]
  },
  {
   "cell_type": "code",
   "execution_count": 2,
   "id": "097199c9-4f3c-4e9f-a580-8f622c882726",
   "metadata": {},
   "outputs": [
    {
     "data": {
      "text/plain": [
       "7.25"
      ]
     },
     "execution_count": 2,
     "metadata": {},
     "output_type": "execute_result"
    }
   ],
   "source": [
    "x = abs(-7.25)\n",
    "x"
   ]
  },
  {
   "cell_type": "code",
   "execution_count": 3,
   "id": "455acd41-a79b-44ac-b7c9-263a9ee40bc1",
   "metadata": {},
   "outputs": [],
   "source": [
    "# import library math untuk operasi matematika\n",
    "import math"
   ]
  },
  {
   "cell_type": "code",
   "execution_count": 5,
   "id": "027240a9-84dc-4f97-a5a4-71774e2a07e3",
   "metadata": {},
   "outputs": [
    {
     "data": {
      "text/plain": [
       "27.0"
      ]
     },
     "execution_count": 5,
     "metadata": {},
     "output_type": "execute_result"
    }
   ],
   "source": [
    "# operasi perpangkatan atau eksponen\n",
    "x = math.pow(3, 3)\n",
    "x"
   ]
  },
  {
   "cell_type": "code",
   "execution_count": 6,
   "id": "8685d501-bbc3-4ddf-b359-61b8d16fd010",
   "metadata": {},
   "outputs": [
    {
     "data": {
      "text/plain": [
       "12.0"
      ]
     },
     "execution_count": 6,
     "metadata": {},
     "output_type": "execute_result"
    }
   ],
   "source": [
    "# akar pangkat\n",
    "x = math.sqrt(144)\n",
    "x"
   ]
  },
  {
   "cell_type": "code",
   "execution_count": 7,
   "id": "e2ac173d-525a-43fe-bc66-c970ccb79bb1",
   "metadata": {},
   "outputs": [
    {
     "data": {
      "text/plain": [
       "2"
      ]
     },
     "execution_count": 7,
     "metadata": {},
     "output_type": "execute_result"
    }
   ],
   "source": [
    "# pembulatan ke atas apapun itu\n",
    "x = math.ceil(1.3)\n",
    "x"
   ]
  },
  {
   "cell_type": "code",
   "execution_count": 8,
   "id": "cb862899-3bc9-4e5e-8278-29f324d8de57",
   "metadata": {},
   "outputs": [
    {
     "data": {
      "text/plain": [
       "1"
      ]
     },
     "execution_count": 8,
     "metadata": {},
     "output_type": "execute_result"
    }
   ],
   "source": [
    "# pembulatan ke bawah apapun itu\n",
    "x = math.floor(1.3)\n",
    "x"
   ]
  },
  {
   "cell_type": "code",
   "execution_count": 9,
   "id": "72d5cf7a-f719-481f-99b4-1338cab300c0",
   "metadata": {},
   "outputs": [
    {
     "data": {
      "text/plain": [
       "3.141592653589793"
      ]
     },
     "execution_count": 9,
     "metadata": {},
     "output_type": "execute_result"
    }
   ],
   "source": [
    "# nilai pi\n",
    "x = math.pi\n",
    "x"
   ]
  },
  {
   "cell_type": "code",
   "execution_count": 10,
   "id": "518fb8a7-ca54-469d-8c0c-0f4f98e716fa",
   "metadata": {},
   "outputs": [],
   "source": [
    "# import numpy untuk operasi skalar, vektor, dan matriks\n",
    "import numpy as np"
   ]
  },
  {
   "cell_type": "code",
   "execution_count": 11,
   "id": "592b2d3e-1ddc-49b3-aad9-e1dcceb05c1f",
   "metadata": {},
   "outputs": [
    {
     "data": {
      "text/plain": [
       "array([[110,  90,  40],\n",
       "       [ 60,  50,  60]])"
      ]
     },
     "execution_count": 11,
     "metadata": {},
     "output_type": "execute_result"
    }
   ],
   "source": [
    "# operasi penjumlahan matriks\n",
    "A = np.array([[80, 30, 25],\n",
    "              [50, 20, 10]]) # matriks 2 x 3\n",
    "B = np.array([[30, 60, 15],\n",
    "              [10, 30, 50]]) # matriks 2 x 3\n",
    "\n",
    "hasil_penjualan = A + B\n",
    "hasil_penjualan"
   ]
  },
  {
   "cell_type": "code",
   "execution_count": 12,
   "id": "ae9bae2d-b896-49d1-b777-b8bcc245edc9",
   "metadata": {},
   "outputs": [
    {
     "data": {
      "text/plain": [
       "500"
      ]
     },
     "execution_count": 12,
     "metadata": {},
     "output_type": "execute_result"
    }
   ],
   "source": [
    "# operasi dot product hasilnya adalah skalar\n",
    "A = np.array([10, 20, 15]) # vektor\n",
    "B = np.array([5, 15, 10]) # vektor\n",
    "\n",
    "hasil_dot = np.dot(A, B)\n",
    "hasil_dot"
   ]
  },
  {
   "cell_type": "code",
   "execution_count": 13,
   "id": "0234a2e6-b626-4ce5-b667-48f4770fc9f1",
   "metadata": {},
   "outputs": [
    {
     "data": {
      "text/plain": [
       "array([-25, -25,  50])"
      ]
     },
     "execution_count": 13,
     "metadata": {},
     "output_type": "execute_result"
    }
   ],
   "source": [
    "# operasi cross product hasilnya adalah vektor\n",
    "hasil_cross = np.cross(A, B)\n",
    "hasil_cross"
   ]
  },
  {
   "cell_type": "code",
   "execution_count": null,
   "id": "d2fe4bb8-fb2b-4aeb-ab8f-90c21b807c1d",
   "metadata": {},
   "outputs": [],
   "source": []
  }
 ],
 "metadata": {
  "kernelspec": {
   "display_name": "Python 3 (ipykernel)",
   "language": "python",
   "name": "python3"
  },
  "language_info": {
   "codemirror_mode": {
    "name": "ipython",
    "version": 3
   },
   "file_extension": ".py",
   "mimetype": "text/x-python",
   "name": "python",
   "nbconvert_exporter": "python",
   "pygments_lexer": "ipython3",
   "version": "3.11.5"
  }
 },
 "nbformat": 4,
 "nbformat_minor": 5
}
